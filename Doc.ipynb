{
 "cells": [
  {
   "cell_type": "markdown",
   "metadata": {},
   "source": [
    "# Assignment 3: A\\*, IDS, and Effective Branching Factor"
   ]
  },
  {
   "cell_type": "markdown",
   "metadata": {},
   "source": [
    "## By Vignesh Madharapakkam Pagadala"
   ]
  },
  {
   "cell_type": "markdown",
   "metadata": {},
   "source": [
    "## Summary"
   ]
  },
  {
   "cell_type": "markdown",
   "metadata": {},
   "source": [
    "This Notebook contains the implementation of the following search algorithms:\n",
    "* The Recursive Best-First Search implementation of A\\*.\n",
    "* Iterative Deepening Search\n",
    "\n",
    "Additionally, we define a function to calculate the Effective Branching Factor for each algorithm, and use it to contrast the performance of the algorithms when applied on different eight-tile puzzle examples. We also try A\\* with different heuristic functions and observe the results."
   ]
  },
  {
   "cell_type": "markdown",
   "metadata": {},
   "source": [
    "## Contents\n",
    "1. <a href = '#1'>Functions Implemented</a><a id = '1'></a>\n",
    "2. <a href = '#astar'>A\\* Search</a>\n",
    "    * Overview\n",
    "    * Algorithm Definition\n",
    "    * Implementation <br><br>\n",
    "3. <a href = '#heuristic'>Heuristic Functions and Admissibility</a>\n",
    "4. <a href = '#1'>Iterative Deepening Search</a>\n",
    "5. <a href = '#1'>Effective Branching Factor</a>\n",
    "6. <a href = '#1'>Comparision of Results</a>"
   ]
  },
  {
   "cell_type": "markdown",
   "metadata": {},
   "source": [
    "\n",
    "## 1. Functions Implemented\n",
    "The implementation for the following functions have been included in this Notebook:\n",
    "* <a href = '#actionsF_8p'>actionsF_8p</a>: Takes a state, and returns valid actions from that state.\n",
    "* <a href = '#takeActionF_8p'>takeActionF_8p</a>: Takes in a state and a valid action, and applies the action onto the state.\n",
    "* <a href = '#findBlank_8p'>findBlank_8p</a>: Finds the location of the blank in an eight-tile puzzle.\n",
    "* <a href = '#printPath_8p'>printPath_8p</a>: Prints out the path taken by the algorithm in a readable format.\n",
    "* <a href = '#printState_8p'>printState_8p</a>: Prints out the state of the eight puzzle in a readable format.\n",
    "* <a href = '#matrix_to_list_8p'>matrix_to_list_8p</a>: Converts the 2-D eight-puzzle index to 1-D.\n",
    "* <a href = '#list_to_matrix_8p'>list_to_matrix_8p</a>: Converts 1-D eight-puzzle index to 2-D.\n",
    "* <a href = '#swap'>swap</a>: Swaps the values between two positions of the eight-puzzle. \n",
    "* <a href = '#goalTestF_8p'>goalTestF_8p</a>: Takes in a state and checks whether if it's the goal state.<a id = 'astar'></a>\n",
    "* <a href = '#depthLimitedSearch'>depthLimitedSearch</a>: Function which performs Depth-Limited Search.\n",
    "* <a href = '#iterativeDeepeningSearch'>iterativeDeepeningSearch</a>: Function which performs Iterative-Deepening Search.\n",
    "* <a href = '#h1_8p'>h1_8p</a>: Heuristic function which returns zero for all states. \n",
    "* <a href = '#h2_8p'>h2_8p</a>: Heuristic function which returns the Manhattan Distance that the blank is from it's goal position.\n",
    "* <a href = '#h3_8p'>h3_8p</a>: Heuristic function which returns the Manhattan Distance of all tiles (textbook version).\n",
    "* <a href = '#ebf'>ebf</a>: Given the number of nodes of a tree and a depth, returns the Effective Branching Factor for that tree.\n",
    "* <a href = '#runExperiment'>runExperiment</a>: Function to compare results between different algorithms and examples."
   ]
  },
  {
   "cell_type": "markdown",
   "metadata": {},
   "source": [
    "\n",
    "## 2. A\\* Search"
   ]
  },
  {
   "cell_type": "markdown",
   "metadata": {},
   "source": [
    "### Overview"
   ]
  },
  {
   "cell_type": "markdown",
   "metadata": {},
   "source": [
    "According to Wikipedia, A\\* is defined as \"*a computer algorithm that is widely used in pathfinding and graph traversal, the process of plotting an efficiently directed path between multiple points, called nodes*\". A\\* is an **'informed' search** methodology, wherein, the algorithm makes use of some information about where the goal might be located, resulting in a more directed and focused search. <br>"
   ]
  },
  {
   "cell_type": "markdown",
   "metadata": {},
   "source": [
    "<img src = \"https://upload.wikimedia.org/wikipedia/commons/6/60/A%2A_Search_Example_on_North_American_Freight_Train_Network.gif\", height = 400, width = 400>\n",
    "Source: Wikimedia Commons (https://commons.wikimedia.org/wiki/File:A*_Search_Example_on_North_American_Freight_Train_Network.gif)"
   ]
  },
  {
   "cell_type": "markdown",
   "metadata": {},
   "source": [
    "A\\* decides on which node to expand next by using two parameters - g(n) and h(n). g(n) denotes the cost to reach the node n, whereas h(n) is the the estimated cost of the cheapest path from the node n to the goal. The algorithm uses the sum of these two values f(n), to determine which node to expand next. It is most plausible to go for the node with the least f(n) value, since we wish to minimize the path cost."
   ]
  },
  {
   "cell_type": "markdown",
   "metadata": {},
   "source": [
    "<center>*f(n) = g(n) + h(n)*<center>"
   ]
  },
  {
   "cell_type": "markdown",
   "metadata": {},
   "source": [
    "In the above equation, h(n) is what is called the **heuristic function**. We shall discuss more about this later in the Notebook.  "
   ]
  },
  {
   "cell_type": "markdown",
   "metadata": {},
   "source": [
    "### Algorithm Definition"
   ]
  },
  {
   "cell_type": "markdown",
   "metadata": {},
   "source": [
    "In this Notebook, we shall look into the Recursive Best-First Search implementation of A\\*. The algorithmic definition below is from our textbook authors."
   ]
  },
  {
   "cell_type": "raw",
   "metadata": {},
   "source": [
    "function RECURSIVE-BEST-FIRST-SEARCH(problem) returns a solution, or failure<br>\n",
    "    return RBFS(problem,MAKE-NODE(problem.INITIAL-STATE),∞)\n",
    "    \n",
    "function RBFS(problem, node, f limit ) returns a solution, or failure and a new f-cost limit\n",
    "    if problem.GOAL-TEST(node.STATE) then return SOLUTION(node)\n",
    "    successors ←[ ]\n",
    "    for each action in problem.ACTIONS(node.STATE) do\n",
    "        add CHILD-NODE(problem, node, action) intosuccessors\n",
    "    if successors is empty then return failure,∞\n",
    "    for each s in successors do /* update f with value from previous search, if any */\n",
    "        s.f ←max(s.g + s.h, node.f ))\n",
    "    loop do\n",
    "        best ←the lowest f-value node in successors\n",
    "        if best .f > f limit then return failure, best .f\n",
    "        alternative ←the second-lowest f-value among successors\n",
    "        result , best .f ←RBFS(problem, best , min( f limit, alternative))\n",
    "        if result != failure then return result"
   ]
  },
  {
   "cell_type": "markdown",
   "metadata": {},
   "source": [
    "Source: Figure 3.26, 'Artificial Intelligence - A Modern Approach' by Russell and Norvig"
   ]
  },
  {
   "cell_type": "markdown",
   "metadata": {},
   "source": [
    "### Implementation <a id = 'actionsF_8p'></a>"
   ]
  },
  {
   "cell_type": "markdown",
   "metadata": {},
   "source": [
    "We firstly define some functions which shall be put to use when solving the eight-tile puzzle problem. Click <a href = '#as'>here</a> to get directly to the A* implementation."
   ]
  },
  {
   "cell_type": "markdown",
   "metadata": {},
   "source": [
    "#### actionsF_8p:\n",
    "Takes a list which is the state of the puzzle, as a parameter. Returns all possible valid actions from given state, as a list of tuples, with each tuple containing the action (which is a string containing either 'left', 'right', 'up' or 'down') and the single-step cost, which is assumed to be 1 for all moves. <br>\n",
    "**Parameters**: \n",
    "1. *state*: The state of the 8-puzzle, in the form of a list with 9 elements - the numbers 1 to 8, and a 0 (which represents the blank in the 8-puzzle).<br>\n",
    "\n",
    "**Return value**: This function returns a list of all allowable actions from the given state. This is returned in the form of a list."
   ]
  },
  {
   "cell_type": "code",
   "execution_count": 2,
   "metadata": {
    "collapsed": true
   },
   "outputs": [],
   "source": [
    "# THE ACTIONSF FUNCTION GENERATES ALL POSSIBLE VALID ACTIONS FROM A GIVEN STATE.\n",
    "\n",
    "def actionsF_8p(state):\n",
    "\n",
    "    # FIRSTLY, WE DETERMINE WHERE THE BLANK IS LOCATED\n",
    "    blank = findBlank_8p(state)\n",
    "    \n",
    "    # LET'S INITIALIZE THE VALID ACTIONS LIST\n",
    "    validActions = []\n",
    "\n",
    "    # NOW WE USE A SET OF CONDITIONALS AND KEEP APPENDING TO validActions\n",
    "    \n",
    "    # FOR GOING LEFT, CONDITION IS (Y != 0)\n",
    "    if blank[1] != 0:\n",
    "        validActions.append(('left', 1))\n",
    "    # FOR GOING RIGHT, CONDITION IS (Y != 2)\n",
    "    if blank[1] != 2:\n",
    "        validActions.append(('right', 1))\n",
    "    # FOR GOING UP, CONDITION IS (X != 0)\n",
    "    if blank[0] != 0:\n",
    "        validActions.append(('up', 1))\n",
    "    # FOR GOING DOWN, CONDITION IS (X != 2)\n",
    "    if blank[0] != 2:\n",
    "        validActions.append(('down', 1))\n",
    "\n",
    "    return validActions"
   ]
  },
  {
   "cell_type": "markdown",
   "metadata": {},
   "source": [
    "#### takeActionF_8p:<a id = 'takeActionF_8p'></a>\n",
    "Takes in *state* and an action. Applies this action onto the state, and returns the new state generated along with the single-step cost of 1.<br>\n",
    "Parameters: \n",
    "1. *state*: The state of the 8-puzzle, in the form of a list with 9 elements - the numbers 1 to 8, and a 0 (which represents the blank in the 8-puzzle).\n",
    "2. *action*: The action which is to be taken from the current state. *action* is a string whose value is either 'left', 'right', 'up' or 'down', each representing the direction the blank is to be moved.<br>\n",
    "\n",
    "Return value: A tuple with two elements. The first element the state of the puzzle, after applying the indicated action on the given state (both which are specified in the parameters). This is returned as a list containing 9 elements. The second tuple element is the single-step cost which in this case is 1. "
   ]
  },
  {
   "cell_type": "code",
   "execution_count": 3,
   "metadata": {
    "collapsed": true
   },
   "outputs": [],
   "source": [
    "# This function takes in a state and an action, and applies this action to the state. Returns the new state and a step cost to get to state (1).\n",
    "import copy\n",
    "def takeActionF_8p(state, action):\n",
    "    # DETERMINE BLANK LOCATION\n",
    "    blank = findBlank_8p(state)\n",
    "    state2 = copy.copy(state)\n",
    "    # MOVING LEFT - SWAP BLANK WITH ELEMENT TO THE LEFT.\n",
    "    if action[0] == 'left':\n",
    "        swap(state2, blank[0], blank[1], blank[0], blank[1] - 1)\n",
    "\n",
    "    # MOVING RIGHT - SWAP BLANK WITH ELEMENT TO THE RIGHT.\n",
    "    if action[0] == 'right':\n",
    "        swap(state2, blank[0], blank[1], blank[0], blank[1] + 1)\n",
    "\n",
    "    # MOVING UP - SWAP BLANK WITH ELEMENT ABOVE.\n",
    "    if action[0] == 'up':\n",
    "        swap(state2, blank[0], blank[1], blank[0] - 1, blank[1])\n",
    "\n",
    "    # MOVING DOWN - SWAP BLANK WITH ELEMENT BELOW.\n",
    "    if action[0] == 'down':\n",
    "        swap(state2, blank[0], blank[1], blank[0] + 1, blank[1])\n",
    "\n",
    "    return state2, 1"
   ]
  },
  {
   "cell_type": "markdown",
   "metadata": {},
   "source": [
    "#### findBlank_8p<a id = 'findBlank_8p'></a>\n",
    "Takes in the state of the 8-puzzle and returns the position of the blank.\n",
    "Parameters: \n",
    "1. *state*: The state of the 8-puzzle, in the form of a list with 9 elements - the numbers 1 to 8, and a 0 (which represents the blank in the 8-puzzle).\n",
    "\n",
    "Return value: The location of the blank, in the form of a tuple (x, y), where x is the x-index and y is the y-index, of the two-dimensional representation of the 8-puzzle's state. If the blank isn't found, then the string 'Blank not found!' is returned. "
   ]
  },
  {
   "cell_type": "code",
   "execution_count": 4,
   "metadata": {
    "collapsed": true
   },
   "outputs": [],
   "source": [
    "# FUNCTION TO FIND THE BLANK IN A GIVEN STATE\n",
    "\n",
    "def findBlank_8p(state):\n",
    "    ctr = 0\n",
    "    for i in state: # ITERATE THROUGH 'STATE' LIST AND ONCE BLANK IS FOUND, RETURN IT'S 2-DIMENSIONAL INDEX.\n",
    "        if i == 0:\n",
    "            return list_to_matrix_8p(ctr)\n",
    "        ctr += 1\n",
    "    return 'Blank not found!'"
   ]
  },
  {
   "cell_type": "markdown",
   "metadata": {},
   "source": [
    "#### printPath_8p <a id = 'printPath_8p'></a>\n",
    "Takes the start state, goal state and path (which is a list containing all the states gone through to get from start to goal), and prints out the entire solution path in a readable format. \n",
    "Parameters:\n",
    "1. *startState*: A list with 9 elements which represents the starting state of the 8-puzzle.\n",
    "2. *goalState*: A list with 9 elements which represents the goal state of the 8-puzzle.\n",
    "3. *path*: Contains the solution path from *startState* to *goalState*.\n",
    "\n",
    "Return value: Returns *None*."
   ]
  },
  {
   "cell_type": "code",
   "execution_count": 5,
   "metadata": {
    "collapsed": true
   },
   "outputs": [],
   "source": [
    "def printPath_8p(startState, goalState, path):\n",
    "    \n",
    "    if path == 'cutoff' or path == 'failure':\n",
    "        print(path)\n",
    "    else:\n",
    "        # FIND PATH LENGTH\n",
    "        l = len(path)\n",
    "        #print(\"The path from %s to %s is %d nodes long.\" % (printState_8p(startState), printState_8p(goalState), l))\n",
    "        print(\"The path from \\n\")\n",
    "        printState_8p(startState)\n",
    "        print(\"\\nto\\n\")\n",
    "        printState_8p(goalState)\n",
    "        print(\"\\nis %d nodes long.\" % l)\n",
    "        print()\n",
    "        print()\n",
    "        for p in path:\n",
    "            printState_8p(p)\n",
    "            print()"
   ]
  },
  {
   "cell_type": "markdown",
   "metadata": {},
   "source": [
    "#### printState_8p <a id = 'printState_8p'></a>\n",
    "Prints out the state of the eight-puzzle in a comprehensible way.\n",
    "Parameters:\n",
    "1. *state*: The state of the 8-puzzle, in the form of a list with 9 elements - the numbers 1 to 8, and a 0 (which represents the blank in the 8-puzzle). \n",
    "\n",
    "Return value: Returns *None*."
   ]
  },
  {
   "cell_type": "code",
   "execution_count": 6,
   "metadata": {
    "collapsed": true
   },
   "outputs": [],
   "source": [
    "def printState_8p(state):\n",
    "    ctr = 0\n",
    "    # PRINTING THE ELEMENTS OF THE STATE IN A READABLE, 2-DIMENSIONAL FORMAT\n",
    "    for i in range(3):\n",
    "        for j in range(3):\n",
    "            if state[ctr] == 0:\n",
    "                print(' ', end = ' ')\n",
    "            else:\n",
    "                print(state[ctr], end=' ')\n",
    "            ctr += 1\n",
    "        print()"
   ]
  },
  {
   "cell_type": "markdown",
   "metadata": {},
   "source": [
    "#### matrix_to_list_8p <a id = 'matrix_to_list_8p'></a>\n",
    "It would be helpful to visualize the 8-puzzle as a 2-dimensional 3 X 3 board. This raises the need to index this 3 X 3 space, but it is also required to index the 1-dimensional list *state* in which the state of the puzzle is stored. This calls for the need to have a function which converts the 2-D indices into 1-D, which is what *matrix_to_list_8p* does.\n",
    "Parameters: \n",
    "1. *x*: x-index of the 3 X 3 8-puzzle\n",
    "2. *y*: y-index of the 3 X 3 8-puzzle\n",
    "\n",
    "Return value: The equivalent 1-dimensional index of the puzzle's state. If index doesn't exist, the string 'Index does not exist!' is returned."
   ]
  },
  {
   "cell_type": "code",
   "execution_count": 7,
   "metadata": {
    "collapsed": true
   },
   "outputs": [],
   "source": [
    "# THIS FUNCTION TAKES IN X INDEX AND Y INDEX VALUES, AND RETURNS THE SIMPLE-LIST INDEX\n",
    "\n",
    "def matrix_to_list_8p(x, y):\n",
    "    counter = 0\n",
    "    for i in range(3): # SINCE IT'S A 3 X 3 PUZZLE\n",
    "        for j in range(3):\n",
    "            if i == x and j == y:\n",
    "                return counter\n",
    "            counter += 1\n",
    "    return 'Index does not exist!'"
   ]
  },
  {
   "cell_type": "markdown",
   "metadata": {},
   "source": [
    "#### list_to_matrix_8p <a id = 'list_to_matrix_8p'></a>\n",
    "Similar to why we defined the *matrix_to_list_8p* function, *list_to_matrix_8p* takes in the 1-dimensional index of *state* and returns the equivalent 2-dimensional index.\n",
    "Parameters: \n",
    "1. *x*: index of the *state* list\n",
    "\n",
    "Return value: The equivalent 2-dimensional index of the puzzle's state, returned as a (x,y) tuple. If index doesn't exist, the string 'Index does not exist!' is returned."
   ]
  },
  {
   "cell_type": "code",
   "execution_count": 13,
   "metadata": {
    "collapsed": true
   },
   "outputs": [],
   "source": [
    "# FUNCTION WHICH TAKES IN A SIMPLE-LIST INDEX AND RETURNS X, Y VALUES\n",
    "\n",
    "def list_to_matrix_8p(x):\n",
    "    counter = 0\n",
    "    for i in range(3):\n",
    "        for j in range(3):\n",
    "            if counter == x:\n",
    "                return i, j # RETURNS A TUPLE CONTAINING X AND Y INDEX VALUES\n",
    "            counter += 1\n",
    "    return 'Index does not exist!'"
   ]
  },
  {
   "cell_type": "markdown",
   "metadata": {},
   "source": [
    "#### swap <a id = 'swap'></a>\n",
    "It takes in the state of the puzzle, and the 2-dimensional indices of two elements in the list. It then swaps the position of these two elements in the *state* list. \n",
    "Parameters:\n",
    "1. *state*: State of the puzzle, represented as a list with 9 elements.\n",
    "2. *x1*: An integer which represents the x-index of the first element.\n",
    "3. *y1*: An integer which represents the y-index of the first element.\n",
    "4. *x2*: An integer which represents the x-index of the second element.\n",
    "5. *y2*: An integer which represents the y-index of the second element.\n",
    "\n",
    "Return value:\n",
    "Returns *None*"
   ]
  },
  {
   "cell_type": "code",
   "execution_count": 9,
   "metadata": {
    "collapsed": true
   },
   "outputs": [],
   "source": [
    "# FUNCTION TO SWAP TWO POSITIONS IN A 2D MATRIX\n",
    "\n",
    "def swap(state, x1, y1, x2, y2):\n",
    "    temp = state[matrix_to_list_8p(x1, y1)] # ASSIGN FIRST INDEX VALUE TO TEMPORARY VARIABLE\n",
    "    state[matrix_to_list_8p(x1, y1)] = state[matrix_to_list_8p(x2, y2)] # ASSIGN SECOND INDEX VALUE TO FIRST POSITION\n",
    "    state[matrix_to_list_8p(x2, y2)] = temp # ASSIGN TEMPORARY VARIABLE'S VALUE TO SECOND POSITION\n",
    "    return state"
   ]
  },
  {
   "cell_type": "markdown",
   "metadata": {},
   "source": [
    "#### goalTestF_8p <a id = 'goalTestF_8p'></a>\n",
    "This function is for check ing if a given state is the required goal state. It takes in *state* and *goalState*, both of which are lists, and checks for equality between them.<br>\n",
    "Parameters: \n",
    "1. *state*: State of the puzzle, represented as a list with 9 elements.\n",
    "2. *goalState*: A list with 9 elements which represents the goal state of the 8-puzzle.\n",
    "\n",
    "Return value: A boolean. True if *state* is equal to *goalState*, False if otherwise."
   ]
  },
  {
   "cell_type": "code",
   "execution_count": 10,
   "metadata": {
    "collapsed": true
   },
   "outputs": [],
   "source": [
    "def goalTestF_8p(state, goalState):\n",
    "    return state == goalState"
   ]
  },
  {
   "cell_type": "markdown",
   "metadata": {},
   "source": [
    "#### Node class\n",
    "The *Node* class is essentially used to store information associated with a node in the search tree. This information includes the state, f, g and h values of the node. \n",
    "<a id = 'as'></a>"
   ]
  },
  {
   "cell_type": "code",
   "execution_count": 11,
   "metadata": {
    "collapsed": true
   },
   "outputs": [],
   "source": [
    "class Node:\n",
    "    def __init__(self, state, f=0, g=0 ,h=0):\n",
    "        self.state = state\n",
    "        self.f = f\n",
    "        self.g = g\n",
    "        self.h = h\n",
    "    def __repr__(self):\n",
    "        return \"Node(\" + repr(self.state) + \", f=\" + repr(self.f) + \\\n",
    "               \", g=\" + repr(self.g) + \", h=\" + repr(self.h) + \")\""
   ]
  },
  {
   "cell_type": "markdown",
   "metadata": {},
   "source": [
    "\n",
    "#### aStarSearch <a id = 'aStarSearch'></a>\n",
    "The following cell contains the implementation of A\\*. *aStarSearch* initiates the recursive call, by calling the helper function aStarSearchHelper. It has the following parameters: <br>\n",
    "1. startState: A list with 9 elements which represents the starting state of the 8-puzzle\n",
    "2. actionsF: A functions which returns all valid actions from a state.\n",
    "3. takeActionF: A function which applies a given action onto a given state, and returns the new state of the eight-puzzle.\n",
    "4. goalTestF: A function which checks if a given state is the goal state or not and returns the appropriate boolean value.\n",
    "5. hF: The heuristic function to be used by the algorithm.\n",
    "\n",
    "Returns: The result from calling the helper function aStarSearchHelper.\n",
    "\n",
    "The helper function *aStarSearchHelper* has the following parameters:\n",
    "1. parentNode: An object of *Node* class.\n",
    "2. actionsF: A functions which returns all valid actions from a state.\n",
    "3. takeActionF: A function which applies a given action onto a given state, and returns the new state of the eight-puzzle.\n",
    "4. goalTestF: A function which checks if a given state is the goal state or not and returns the appropriate boolean value.\n",
    "5. hF: The heuristic function to be used by the algorithm.\n",
    "6. fmax: The maximum f value of the nodes upto which the search is carried out.\n",
    "\n",
    "Returns: The solution path."
   ]
  },
  {
   "cell_type": "code",
   "execution_count": 14,
   "metadata": {
    "collapsed": true
   },
   "outputs": [],
   "source": [
    "def aStarSearch(startState, actionsF, takeActionF, goalTestF, hF):\n",
    "    h = hF(startState)\n",
    "    startNode = Node(state=startState, f=0+h, g=0, h=h)\n",
    "    return aStarSearchHelper(startNode, actionsF, takeActionF, goalTestF, hF, float('inf'))\n",
    "\n",
    "\n",
    "def aStarSearchHelper(parentNode, actionsF, takeActionF, goalTestF, hF, fmax):\n",
    "    global nodes\n",
    "    if goalTestF(parentNode.state):\n",
    "        return ([parentNode.state], parentNode.g)\n",
    "    ## Construct list of children nodes with f, g, and h values\n",
    "    actions = actionsF(parentNode.state)\n",
    "    if not actions:\n",
    "        return (\"failure\", float('inf'))\n",
    "    children = []\n",
    "    for action in actions:\n",
    "        nodes = nodes + 1\n",
    "        (childState,stepCost) = takeActionF(parentNode.state, action)\n",
    "        h = hF(childState)\n",
    "        g = parentNode.g + stepCost\n",
    "        f = max(h+g, parentNode.f)\n",
    "        childNode = Node(state=childState, f=f, g=g, h=h)\n",
    "        children.append(childNode)\n",
    "    while True:\n",
    "        # find best child\n",
    "        children.sort(key = lambda n: n.f) # sort by f value\n",
    "        bestChild = children[0]\n",
    "        if bestChild.f > fmax:\n",
    "            return (\"failure\",bestChild.f)\n",
    "        # next lowest f value\n",
    "        alternativef = children[1].f if len(children) > 1 else float('inf')\n",
    "        # expand best child, reassign its f value to be returned value\n",
    "        result,bestChild.f = aStarSearchHelper(bestChild, actionsF, takeActionF, goalTestF,\n",
    "                                            hF, min(fmax,alternativef))\n",
    "        if result is not \"failure\":             \n",
    "            result.insert(0,parentNode.state)     \n",
    "            return (result, bestChild.f)"
   ]
  },
  {
   "cell_type": "markdown",
   "metadata": {
    "collapsed": true
   },
   "source": [
    "## 3. Heuristic Functions and Admissibility <a id = 'heuristic'></a>"
   ]
  },
  {
   "cell_type": "markdown",
   "metadata": {},
   "source": [
    "### What is a heuristic?\n",
    "Merriam-Webster defines 'heuristic' as \"involving or serving as an aid to learning, discovery, or problem-solving by experimental and especially trial-and-error methods\" (source: https://www.merriam-webster.com/dictionary/heuristic).\n",
    "\n",
    "In the context of informed search, the heuristic function essentially adds to the 'informed' part of informed search. As indicated above, the heuristic function h(n) should be the estimated cost of the cheapest path from a given node n to the goal.\n",
    "\n",
    "### Admissibility\n",
    "In order to obtain an optimal solution path, every heuristic must satisfy a certain rudimentary requirement, which is admissibility. An admissible heuristic is one which **never overestimates the true cost of the solution path**. In the words of our textbook authors, \"admissible heuristics are by nature optimistic because they think the cost of solving\n",
    "the problem is less than it actually is\" (Russel and Norvig, 3.5.2).    "
   ]
  },
  {
   "cell_type": "markdown",
   "metadata": {},
   "source": [
    "In this Notebook, we shall use the heuristic functions outlined in the following cells."
   ]
  },
  {
   "cell_type": "markdown",
   "metadata": {},
   "source": [
    "#### 1. h1_8p\n",
    "This heuristic function returns 0 for all states including the goal state. Since it's constant for all states, it doesn't really help inform the algorithm of where the goal might be, however, it's still valid since it is admissible (0 can in no way be an overestimate of cost). It can be considered as a very 'stupid' heuristic.  "
   ]
  },
  {
   "cell_type": "code",
   "execution_count": 15,
   "metadata": {
    "collapsed": true
   },
   "outputs": [],
   "source": [
    "def h1_8p(state, goalState):\n",
    "    return 0"
   ]
  },
  {
   "cell_type": "markdown",
   "metadata": {},
   "source": [
    "#### 2. h2_8p\n",
    "This heuristic function takes a state and the goal state as parameters, and returns the **Manhattan Distance** that the blank in the start state is from the goal state. Manhattan Distance is the distance between two points measured along axes at right angles. This can be computed by simply finding the sum of the horizontal and vertical components of the distance between the two blank locations. This sum is returned by the function. <br>"
   ]
  },
  {
   "cell_type": "markdown",
   "metadata": {
    "collapsed": true
   },
   "source": [
    "<img src = \"http://apprize.info/game/algorithms/algorithms.files/image207.jpg\", height = 550, width = 550>\n",
    "Source: http://apprize.info/game/algorithms/algorithms.files/image207.jpg"
   ]
  },
  {
   "cell_type": "markdown",
   "metadata": {},
   "source": [
    "### Is h2_8p Admissible?\n",
    "Yes it is. The Manhattan Distance implemented in this function is basically the shortest possible path that can be taken to reach the goal state. No matter what other moves the other tiles make, it is definitely necessary to get the blank to move from start state position to the position in the goal state.<br>\n",
    "Since tiles can only move either left, right, up or down, the shortest possible path that can be taken by a tile between any two points in the eight-puzzle is through the horizontal and vertical components of the straight-line Euclidean distance, a.k.a. the Manhattan distance. Such a path yeilds the absolute minimum path cost, and therefore can in no way overestimate the solution path cost. Hence, h2_8p is indeed admissible.  "
   ]
  },
  {
   "cell_type": "code",
   "execution_count": 17,
   "metadata": {
    "collapsed": true
   },
   "outputs": [],
   "source": [
    "# Heuristic function which computes the Manhattan Distance of the blank\n",
    "def h2_8p(state, goalState):\n",
    "    x1, y1 = findBlank_8p(state)\n",
    "    x2, y2 = findBlank_8p(goalState)\n",
    "    x = abs(x1 - x2)\n",
    "    y = abs(y1 - y2)\n",
    "    return x + y"
   ]
  },
  {
   "cell_type": "markdown",
   "metadata": {},
   "source": [
    "#### 3. h3_8p\n",
    "This heuristic function also uses Manhattan Distance to estimate solution path cost, but this differs from h2_8p in that, the Manhattan Distance calculation implemented in this function conforms with what is defined by our textbook authors (see section 3.6, 'Artificial Intelligence - A Modern Approach' by Russell and Norvig). In h2_8p, we used the distance the blank was from the goal position, but in this function, we use the sum of the distances of each tile from their respective goal positions. I am compelled to clarify that 'distance' here refers to the sum of the horizontal and vertical components of the Euclidean distance between two points on the eight-puzzle. We shall discuss the admissibility of this heuristic in the cells below.   "
   ]
  },
  {
   "cell_type": "markdown",
   "metadata": {},
   "source": [
    "### Is h3_8p Admissible?\n",
    "In h2_8p, we considered the absolute minimum path cost that could be generated, to be the 'distance' (see previous cell) of the blank alone, from it's position in the start state to that in the goal state. Let's generalize this a bit further. We can consider a case of absolute minimum path cost also to occur when the only possible moves that can be made by each tile are one step closer to the goal, i.e., one step towards their respective positions in the goal state. Therefore, this heuristic is also admissible. <br>\n",
    "\n",
    "It has to be taken note of, however, that we DO NOT include the distance calculation for the blank. If we do so, then the heuristic is no longer admissible. This can be observed from the fact that when a tile is moved, **the blank position changes accordingly as well**. So we can think of the blank's moves also being considered when the distance calculation is performed for each tile, and therefore, don't have to include it's distance calculation."
   ]
  },
  {
   "cell_type": "code",
   "execution_count": 18,
   "metadata": {
    "collapsed": true
   },
   "outputs": [],
   "source": [
    "# H3 - Actual Manhattan distance\n",
    "def h3_8p(state, goalState):\n",
    "    dist = 0\n",
    "    for i in range(9):\n",
    "        if state[i] == 0:\n",
    "            continue\n",
    "        # Find element at position i in state\n",
    "        element = state[i]\n",
    "        # Find x and y of this element\n",
    "        x1, y1 = list_to_matrix_8p(i)\n",
    "        # Index of same element in goalState\n",
    "        xg, yg = list_to_matrix_8p(goalState.index(element))\n",
    "        # Compute sum\n",
    "        x = abs(x1 - xg)\n",
    "        y = abs(y1 - yg)\n",
    "        #print(x, y)\n",
    "        s = x + y\n",
    "        #print(s)\n",
    "        dist = s + dist\n",
    "    return dist"
   ]
  },
  {
   "cell_type": "markdown",
   "metadata": {},
   "source": [
    "## 4. Iterative Deepening Search"
   ]
  },
  {
   "cell_type": "markdown",
   "metadata": {},
   "source": [
    "The following cells contain the implementation for Iterative Deepening Search (IDS). Iterative deepening is a graph/tree search algorithm in which a depth-limited depth-first search is carried out repeatedly, each time with increasing depth limits. Every time a depth-limited search iteration is completed (and the goal is not found yet), all the nodes explored so far are discarded to save-up memory, and depth-first search is carried out again after increasing the depth-limit by one. "
   ]
  },
  {
   "cell_type": "markdown",
   "metadata": {},
   "source": [
    "The *depthLimitedSearch* function uses depth-limited depth-first search to try and get to the goal state. The parameters *actionsF* and *takeActionF* are functions which basically define the type of puzzle or problem which is to be solved through this function. <br>\n",
    "In the following implementation, *depthLimitedSearch* is a recursive function. The *actionsF* function is used to get all the valid actions which can be applied to the current state, and the child nodes (possible actions from a state) are generated using the *takeActionF* function. <br>\n",
    "It takes the following parameters:\n",
    "1. *state*: State of the puzzle, represented as a list with 9 elements.\n",
    "2. *goalState*: A list which represents the goal state of the puzzle.\n",
    "3. *actionsF*: A function which, when given the state, returns a list of valid actions from that state.\n",
    "4. *takeActionF*: A function which, when given a state and an action, applies the action onto the state and returns the new state of the puzzle.\n",
    "5. *depthLimit*: An integer which designates the depth upto which the depth-limited depth-first search can go.\n",
    "\n",
    "For each child state, *depthLimitedSearch* makes a recursive call to itself to descend down each branch of the search-tree. In each recursive call, the depth-limit parameter is decremented by 1, so that, if the depth limit is reached, and the goal hasn't been found, a conditional statement is triggered, returning the string 'cutoff', signifying that the goal state could not be found within the depth limit specified. If the goal could not be found in the entire tree, we return 'failure'.\n",
    "If the goal is found, then we insert the child state in front of the *result* list, and return it i.e. we keep constructing the solution path on *result*.<br>\n",
    "This function returns a list containing the solution path, that is, a list containing the states that the puzzle had to go through to get to the goal state. If the goal state cannot be found within the depth specified by *depthLimit*, then 'cutoff' is returned. If the goal state cannot be found in the entire search-tree, the string 'failure' is returned."
   ]
  },
  {
   "cell_type": "code",
   "execution_count": 203,
   "metadata": {
    "collapsed": true
   },
   "outputs": [],
   "source": [
    "def depthLimitedSearch(state, goalState, actionsF, takeActionF, depthLimit):\n",
    "    global nodes\n",
    "    if state == goalState:\n",
    "        return []\n",
    "    if depthLimit == 0:\n",
    "        return 'cutoff'\n",
    "    cutoffOccurred = False\n",
    "    for action in actionsF(state):\n",
    "        childState, _ = takeActionF(state, action)\n",
    "        nodes = nodes + 1\n",
    "        result = depthLimitedSearch(childState, goalState, actionsF, takeActionF, depthLimit - 1)\n",
    "        if result == 'cutoff':\n",
    "            cutoffOccurred = True\n",
    "        elif result != 'failure':\n",
    "            result.insert(0, childState)\n",
    "            return result \n",
    "    if cutoffOccurred:\n",
    "        return 'cutoff' # RETURN 'cutoff' IF NO GOAL COULD BE FOUND WITHIN depthLimit\n",
    "    else:\n",
    "        return 'failure' # RETURN 'failure' IF NO GOAL STATE COULD BE FOUND IN THE ENTIRE SEARCH-TREE"
   ]
  },
  {
   "cell_type": "markdown",
   "metadata": {},
   "source": [
    "The iterativeDeepeningSearch function iteratively calls depthLimitedSearch for each depth value from 0 to maxDepth. Once the goal state is found, it inserts startState to the front of result and returns it (the solution path)."
   ]
  },
  {
   "cell_type": "code",
   "execution_count": null,
   "metadata": {
    "collapsed": true
   },
   "outputs": [],
   "source": [
    "def iterativeDeepeningSearch(startState, goalState, actionsF, takeActionF, maxDepth):\n",
    "    depth = 0\n",
    "    while(depth < maxDepth):\n",
    "        result = depthLimitedSearch(startState, goalState, actionsF, takeActionF, depth)\n",
    "        if result == 'failure':\n",
    "            return 'failure'\n",
    "        if result != 'cutoff':\n",
    "            result.insert(0, startState)\n",
    "            return result\n",
    "        depth += 1\n",
    "    return 'cutoff'"
   ]
  },
  {
   "cell_type": "markdown",
   "metadata": {},
   "source": [
    "# EBF"
   ]
  },
  {
   "cell_type": "code",
   "execution_count": 204,
   "metadata": {
    "collapsed": true
   },
   "outputs": [],
   "source": [
    "def ebf(nNodes, depth, precision = 0.00001):\n",
    "\tleft = 1\n",
    "\tright = nNodes\n",
    "\tif nNodes == 0:\n",
    "\t\treturn 0\n",
    "\tb = 1.0\n",
    "\twhile(True):\n",
    "\t\tif abs(right - left) <= precision:\n",
    "\t\t\tbreak\n",
    "\t\t#print('left', left)\n",
    "\t\t#print('right', right)\n",
    "\t\tb = (left + right)/2\n",
    "\t\t#print('b', b)\n",
    "\t\tn = (pow(b, (depth+1)) - 1)/(b - 1)\n",
    "\t\tif nNodes < n:\n",
    "\t\t\tright = b - precision\n",
    "\t\telif nNodes > n:\n",
    "\t\t\tleft = b + precision\n",
    "\t\telse:\n",
    "\t\t\treturn b\n",
    "\treturn b    "
   ]
  },
  {
   "cell_type": "markdown",
   "metadata": {},
   "source": [
    "# 8 puzzle"
   ]
  },
  {
   "cell_type": "markdown",
   "metadata": {},
   "source": [
    "## A star"
   ]
  },
  {
   "cell_type": "code",
   "execution_count": 205,
   "metadata": {
    "scrolled": true
   },
   "outputs": [
    {
     "data": {
      "text/plain": [
       "([[1, 2, 3, 4, 0, 5, 6, 7, 8],\n",
       "  [1, 2, 3, 4, 5, 0, 6, 7, 8],\n",
       "  [1, 2, 3, 4, 5, 8, 6, 7, 0],\n",
       "  [1, 2, 3, 4, 5, 8, 6, 0, 7]],\n",
       " 3)"
      ]
     },
     "execution_count": 205,
     "metadata": {},
     "output_type": "execute_result"
    }
   ],
   "source": [
    "#startState = [1, 0, 3, 4, 2, 6, 7, 5, 8]\n",
    "#goalState = [1, 2, 3, 4, 5, 6, 7, 8, 0]\n",
    "\n",
    "#startState = [1,2,3,4,0,5,6,7,8]\n",
    "#goalState = [3,5,0,2,1,8,4,7,6]\n",
    "\n",
    "startState = [1,2,3,4,0,5,6,7,8]\n",
    "#goalState = [1,2,3,4,0,5,6,7,8]\n",
    "goalState = [1,2,3,4,5,8,6,0,7]\n",
    "#goalState = [1,0,3,4,5,8,2,6,7]\n",
    "\n",
    "aStarSearch(startState, actionsF_8p, takeActionF_8p,\n",
    "            lambda s: goalTestF_8p(s, goalState), lambda s: hf(s, goalState))"
   ]
  },
  {
   "cell_type": "markdown",
   "metadata": {},
   "source": [
    "## IDS"
   ]
  },
  {
   "cell_type": "code",
   "execution_count": 206,
   "metadata": {
    "scrolled": false
   },
   "outputs": [
    {
     "data": {
      "text/plain": [
       "[[1, 2, 3, 4, 0, 5, 6, 7, 8],\n",
       " [1, 2, 3, 4, 5, 0, 6, 7, 8],\n",
       " [1, 2, 3, 4, 5, 8, 6, 7, 0],\n",
       " [1, 2, 3, 4, 5, 8, 6, 0, 7]]"
      ]
     },
     "execution_count": 206,
     "metadata": {},
     "output_type": "execute_result"
    }
   ],
   "source": [
    "iterativeDeepeningSearch(startState, goalState, actionsF_8p, takeActionF_8p, 10)"
   ]
  },
  {
   "cell_type": "markdown",
   "metadata": {},
   "source": [
    "First, some example output for the ebf function."
   ]
  },
  {
   "cell_type": "code",
   "execution_count": 207,
   "metadata": {
    "scrolled": true
   },
   "outputs": [
    {
     "data": {
      "text/plain": [
       "1.6608019390487667"
      ]
     },
     "execution_count": 207,
     "metadata": {},
     "output_type": "execute_result"
    }
   ],
   "source": [
    "ebf(10, 3)"
   ]
  },
  {
   "cell_type": "markdown",
   "metadata": {},
   "source": [
    "The smallest argument values should be a depth of 0, and 1 node."
   ]
  },
  {
   "cell_type": "code",
   "execution_count": 208,
   "metadata": {},
   "outputs": [
    {
     "data": {
      "text/plain": [
       "1.0"
      ]
     },
     "execution_count": 208,
     "metadata": {},
     "output_type": "execute_result"
    }
   ],
   "source": [
    "ebf(1, 0)"
   ]
  },
  {
   "cell_type": "code",
   "execution_count": 209,
   "metadata": {},
   "outputs": [
    {
     "data": {
      "text/plain": [
       "1.0000052590942383"
      ]
     },
     "execution_count": 209,
     "metadata": {},
     "output_type": "execute_result"
    }
   ],
   "source": [
    "ebf(2, 1)"
   ]
  },
  {
   "cell_type": "code",
   "execution_count": 210,
   "metadata": {},
   "outputs": [
    {
     "data": {
      "text/plain": [
       "1.0000009073524474"
      ]
     },
     "execution_count": 210,
     "metadata": {},
     "output_type": "execute_result"
    }
   ],
   "source": [
    "ebf(2, 1, precision=0.000001)"
   ]
  },
  {
   "cell_type": "code",
   "execution_count": 211,
   "metadata": {},
   "outputs": [
    {
     "data": {
      "text/plain": [
       "11.275616400465465"
      ]
     },
     "execution_count": 211,
     "metadata": {},
     "output_type": "execute_result"
    }
   ],
   "source": [
    "ebf(200000, 5)"
   ]
  },
  {
   "cell_type": "code",
   "execution_count": 212,
   "metadata": {},
   "outputs": [
    {
     "data": {
      "text/plain": [
       "1.2347985300998876"
      ]
     },
     "execution_count": 212,
     "metadata": {},
     "output_type": "execute_result"
    }
   ],
   "source": [
    "ebf(200000, 50)"
   ]
  },
  {
   "cell_type": "markdown",
   "metadata": {},
   "source": [
    "Here is a simple example using our usual simple graph search."
   ]
  },
  {
   "cell_type": "code",
   "execution_count": 213,
   "metadata": {
    "collapsed": true
   },
   "outputs": [],
   "source": [
    "def actionsF_simple(state):\n",
    "    succs = {'a': ['b', 'c'], 'b':['e', 'f', 'g'], 'b':['a'], 'c':['h'], 'h':['i'], 'i':['j', 'k', 'l'], 'k':['z']}\n",
    "    return [(s, 1) for s in succs.get(state, [])]\n",
    "\n",
    "def takeActionF_simple(state, action):\n",
    "    return action\n",
    "\n",
    "def goalTestF_simple(state, goal):\n",
    "    return state == goal\n",
    "\n",
    "def h_simple(state, goal):\n",
    "    return 1"
   ]
  },
  {
   "cell_type": "code",
   "execution_count": 214,
   "metadata": {},
   "outputs": [
    {
     "data": {
      "text/plain": [
       "[('b', 1), ('c', 1)]"
      ]
     },
     "execution_count": 214,
     "metadata": {},
     "output_type": "execute_result"
    }
   ],
   "source": [
    "actions = actionsF_simple('a')\n",
    "actions"
   ]
  },
  {
   "cell_type": "code",
   "execution_count": 215,
   "metadata": {},
   "outputs": [
    {
     "data": {
      "text/plain": [
       "('b', 1)"
      ]
     },
     "execution_count": 215,
     "metadata": {},
     "output_type": "execute_result"
    }
   ],
   "source": [
    "takeActionF_simple('a', actions[0])"
   ]
  },
  {
   "cell_type": "code",
   "execution_count": 216,
   "metadata": {},
   "outputs": [
    {
     "data": {
      "text/plain": [
       "True"
      ]
     },
     "execution_count": 216,
     "metadata": {},
     "output_type": "execute_result"
    }
   ],
   "source": [
    "goalTestF_simple('a', 'a')"
   ]
  },
  {
   "cell_type": "code",
   "execution_count": 217,
   "metadata": {},
   "outputs": [
    {
     "data": {
      "text/plain": [
       "1"
      ]
     },
     "execution_count": 217,
     "metadata": {},
     "output_type": "execute_result"
    }
   ],
   "source": [
    "h_simple('a', 'z')"
   ]
  },
  {
   "cell_type": "code",
   "execution_count": 218,
   "metadata": {},
   "outputs": [
    {
     "data": {
      "text/plain": [
       "['a', 'c', 'h', 'i', 'k', 'z']"
      ]
     },
     "execution_count": 218,
     "metadata": {},
     "output_type": "execute_result"
    }
   ],
   "source": [
    "iterativeDeepeningSearch('a', 'z', actionsF_simple, takeActionF_simple, 10)"
   ]
  },
  {
   "cell_type": "code",
   "execution_count": 219,
   "metadata": {},
   "outputs": [
    {
     "data": {
      "text/plain": [
       "(['a', 'c', 'h', 'i', 'k', 'z'], 5)"
      ]
     },
     "execution_count": 219,
     "metadata": {},
     "output_type": "execute_result"
    }
   ],
   "source": [
    "aStarSearch('a',actionsF_simple, takeActionF_simple,\n",
    "            lambda s: goalTestF_simple(s, 'z'),\n",
    "            lambda s: h_simple(s, 'z'))"
   ]
  },
  {
   "cell_type": "code",
   "execution_count": 220,
   "metadata": {
    "collapsed": true
   },
   "outputs": [],
   "source": [
    "import pandas as pd\n",
    "import numpy as np\n",
    "import tabulate\n",
    "from IPython.display import display, HTML\n",
    "\n",
    "from IPython.display import display_html\n",
    "def disp(dataframes):\n",
    "    html_str=''\n",
    "    for i in dataframes:\n",
    "        html_str = html_str + i\n",
    "    display_html(html_str.replace('table','table style=\"display:inline; text-align:center\"'),raw=True)\n",
    "\n",
    "def runExperiment(goalState1, goalState2, goalState3, hList = []):\n",
    "    global nodes\n",
    "    row1 = ['']\n",
    "    row2 = ['Algorithm']\n",
    "    row3 = ['IDS']\n",
    "    rowi = []\n",
    "    # Iterate through list of heuristic functions and append name first.\n",
    "    for h in range(len(hList)+1):\n",
    "        if h == 0:\n",
    "            continue\n",
    "        rowi.append(['A*h' + str(h)])\n",
    "\n",
    "    mas = []\n",
    "    final = [row1, row2, row3]#, row4, row5, row6]\n",
    "    for r in rowi:\n",
    "        final.append(r)\n",
    "    t = tabulate.tabulate(final, stralign = 'center', tablefmt = 'html')\n",
    "\n",
    "    mas.append(t)\n",
    "    for r in rowi:\n",
    "        r.clear()\n",
    "    startState = [1,2,3,4,0,5,6,7,8]\n",
    "    goalStateList = [goalState1, goalState2, goalState3]\n",
    "    for goalState in goalStateList:\n",
    "        row1 = ['', goalState, '']\n",
    "        row2 = ['Depth', 'Nodes', 'EBF']\n",
    "        row3 = []\n",
    "        maxd = float('inf')\n",
    "        ids = iterativeDeepeningSearch(startState, goalState, actionsF_8p, takeActionF_8p, maxd)\n",
    "        dids = len(ids) - 1\n",
    "        n = nodes\n",
    "        ebfids = ebf(n, dids)\n",
    "        ebfids = \"{:.3f}\".format(ebfids) \n",
    "        row3.append(dids)\n",
    "        row3.append(n)\n",
    "        row3.append(ebfids)\n",
    "        nodes = 0\n",
    "\n",
    "        for i in range(len(hList)):\n",
    "            hf = hList[i]\n",
    "            ah = aStarSearch(startState, actionsF_8p, takeActionF_8p, lambda s: goalTestF_8p(s, goalState), lambda s: hf(s, goalState))\n",
    "            d = ah[1]\n",
    "            n = nodes\n",
    "            ebf1 = ebf(n, d)\n",
    "            ebf1 = \"{:.3f}\".format(ebf1)\n",
    "            rowi[i].append(d)\n",
    "            rowi[i].append(n)\n",
    "            rowi[i].append(ebf1)\n",
    "            nodes = 0\n",
    "\n",
    "        final = [row1, row2, row3]\n",
    "        for row in rowi:\n",
    "            final.append(row)\n",
    "        t = tabulate.tabulate(final, stralign = 'center', tablefmt = 'html')\n",
    "        for row in rowi:\n",
    "            row.clear()\n",
    "        mas.append(t)\n",
    "    disp(mas)"
   ]
  },
  {
   "cell_type": "code",
   "execution_count": 221,
   "metadata": {},
   "outputs": [
    {
     "data": {
      "text/html": [
       "<table style=\"display:inline; text-align:center\">\n",
       "<tbody>\n",
       "<tr><td style=\"text-align: center;\">         </td></tr>\n",
       "<tr><td style=\"text-align: center;\">Algorithm</td></tr>\n",
       "<tr><td style=\"text-align: center;\">   IDS   </td></tr>\n",
       "<tr><td style=\"text-align: center;\">  A*h1   </td></tr>\n",
       "<tr><td style=\"text-align: center;\">  A*h2   </td></tr>\n",
       "<tr><td style=\"text-align: center;\">  A*h3   </td></tr>\n",
       "</tbody>\n",
       "</table style=\"display:inline; text-align:center\"><table style=\"display:inline; text-align:center\">\n",
       "<tbody>\n",
       "<tr><td style=\"text-align: center;\">     </td><td style=\"text-align: center;\">[1, 2, 3, 4, 0, 5, 6, 7, 8]</td><td style=\"text-align: center;\">       </td></tr>\n",
       "<tr><td style=\"text-align: center;\">Depth</td><td style=\"text-align: center;\">           Nodes           </td><td style=\"text-align: center;\">  EBF  </td></tr>\n",
       "<tr><td style=\"text-align: center;\">  0  </td><td style=\"text-align: center;\">            237            </td><td style=\"text-align: center;\">237.000</td></tr>\n",
       "<tr><td style=\"text-align: center;\">  0  </td><td style=\"text-align: center;\">             0             </td><td style=\"text-align: center;\"> 0.000 </td></tr>\n",
       "<tr><td style=\"text-align: center;\">  0  </td><td style=\"text-align: center;\">             0             </td><td style=\"text-align: center;\"> 0.000 </td></tr>\n",
       "<tr><td style=\"text-align: center;\">  0  </td><td style=\"text-align: center;\">             0             </td><td style=\"text-align: center;\"> 0.000 </td></tr>\n",
       "</tbody>\n",
       "</table style=\"display:inline; text-align:center\"><table style=\"display:inline; text-align:center\">\n",
       "<tbody>\n",
       "<tr><td style=\"text-align: center;\">     </td><td style=\"text-align: center;\">[1, 2, 3, 4, 5, 8, 6, 0, 7]</td><td style=\"text-align: center;\">     </td></tr>\n",
       "<tr><td style=\"text-align: center;\">Depth</td><td style=\"text-align: center;\">           Nodes           </td><td style=\"text-align: center;\"> EBF </td></tr>\n",
       "<tr><td style=\"text-align: center;\">  3  </td><td style=\"text-align: center;\">            43             </td><td style=\"text-align: center;\">3.086</td></tr>\n",
       "<tr><td style=\"text-align: center;\">  3  </td><td style=\"text-align: center;\">            116            </td><td style=\"text-align: center;\">4.488</td></tr>\n",
       "<tr><td style=\"text-align: center;\">  3  </td><td style=\"text-align: center;\">            51             </td><td style=\"text-align: center;\">3.297</td></tr>\n",
       "<tr><td style=\"text-align: center;\">  3  </td><td style=\"text-align: center;\">             9             </td><td style=\"text-align: center;\">1.578</td></tr>\n",
       "</tbody>\n",
       "</table style=\"display:inline; text-align:center\"><table style=\"display:inline; text-align:center\">\n",
       "<tbody>\n",
       "<tr><td style=\"text-align: center;\">     </td><td style=\"text-align: center;\">[1, 0, 3, 4, 5, 8, 2, 6, 7]</td><td style=\"text-align: center;\">     </td></tr>\n",
       "<tr><td style=\"text-align: center;\">Depth</td><td style=\"text-align: center;\">           Nodes           </td><td style=\"text-align: center;\"> EBF </td></tr>\n",
       "<tr><td style=\"text-align: center;\"> 11  </td><td style=\"text-align: center;\">          225850           </td><td style=\"text-align: center;\">2.954</td></tr>\n",
       "<tr><td style=\"text-align: center;\"> 11  </td><td style=\"text-align: center;\">          643246           </td><td style=\"text-align: center;\">3.263</td></tr>\n",
       "<tr><td style=\"text-align: center;\"> 11  </td><td style=\"text-align: center;\">          100046           </td><td style=\"text-align: center;\">2.733</td></tr>\n",
       "<tr><td style=\"text-align: center;\"> 11  </td><td style=\"text-align: center;\">           1172            </td><td style=\"text-align: center;\">1.762</td></tr>\n",
       "</tbody>\n",
       "</table style=\"display:inline; text-align:center\">"
      ]
     },
     "metadata": {},
     "output_type": "display_data"
    }
   ],
   "source": [
    "goalState1 = [1,2,3,4,0,5,6,7,8]\n",
    "goalState2 = [1,2,3,4,5,8,6,0,7]\n",
    "goalState3 = [1,0,3,4,5,8,2,6,7]\n",
    "#goalState3 = [1,2,3,4,0,5,6,7,8]\n",
    "startState = [1,2,3,4,0,5,6,7,8]\n",
    "runExperiment(goalState1, goalState2, goalState3, [h1_8p, h2_8p, h3_8p])"
   ]
  },
  {
   "cell_type": "markdown",
   "metadata": {},
   "source": [
    "Download [A3grader.tar](http://www.cs.colostate.edu/~anderson/cs440/notebooks/A3grader.tar) and extract A3grader.py from it."
   ]
  },
  {
   "cell_type": "code",
   "execution_count": 222,
   "metadata": {
    "scrolled": false
   },
   "outputs": [
    {
     "name": "stdout",
     "output_type": "stream",
     "text": [
      "\n",
      "Testing actionsF_8p([1, 2, 3, 4, 5, 6, 7, 0, 8])\n",
      "\n",
      "--- 5/5 points. Your actionsF_8p correctly returned [('left', 1), ('right', 1), ('up', 1)]\n",
      "\n",
      "Testing takeActionF_8p([1, 2, 3, 4, 5, 6, 7, 0, 8], (up, 1))\n",
      "\n",
      "--- 5/5 points. Your takeActionsF_8p correctly returned ([1, 2, 3, 4, 0, 6, 7, 5, 8], 1)\n",
      "\n",
      "Testing goalTestF_8p([1, 2, 3, 4, 5, 6, 7, 0, 8], [1, 2, 3, 4, 5, 6, 7, 0, 8])\n",
      "\n",
      "--- 5/5 points. Your goalTestF_8p correctly True\n",
      "\n",
      "Testing aStarSearch([1, 2, 3, 4, 5, 6, 7, 0, 8],\n",
      "                     actionsF_8p, takeActionF_8p,\n",
      "                     lambda s: goalTestF_8p(s, [0, 2, 3, 1, 4,  6, 7, 5, 8]),\n",
      "                     lambda s: h1_8p(s, [0, 2, 3, 1, 4,  6, 7, 5, 8]))\n",
      "\n",
      "--- 20/20 points. Your search correctly returned ([[1, 2, 3, 4, 5, 6, 7, 0, 8], [1, 2, 3, 4, 0, 6, 7, 5, 8], [1, 2, 3, 0, 4, 6, 7, 5, 8], [0, 2, 3, 1, 4, 6, 7, 5, 8]], 3)\n",
      "\n",
      "Testing iterativeDeepeningSearch([5, 2, 8, 0, 1, 4, 3, 7, 6], \n",
      "                                 [0, 2, 3, 1, 4,  6, 7, 5, 8],\n",
      "                                 actionsF_8p, takeActionF_8p, 10)\n",
      "\n",
      "--- 15/15 points. Your search correctly returned cutoff\n",
      "\n",
      "C:\\Users\\Vignesh\\Documents\\Colorado State University\\Courses\\CS440 - Introduction to Artificial Intelligence - Chuck Anderson\\Assignments Grade is 50/50\n"
     ]
    }
   ],
   "source": [
    "%run -i A3grader.py"
   ]
  },
  {
   "cell_type": "code",
   "execution_count": null,
   "metadata": {
    "collapsed": true
   },
   "outputs": [],
   "source": []
  }
 ],
 "metadata": {
  "anaconda-cloud": {},
  "kernelspec": {
   "display_name": "Python 3",
   "language": "python",
   "name": "python3"
  },
  "language_info": {
   "codemirror_mode": {
    "name": "ipython",
    "version": 3
   },
   "file_extension": ".py",
   "mimetype": "text/x-python",
   "name": "python",
   "nbconvert_exporter": "python",
   "pygments_lexer": "ipython3",
   "version": "3.6.0"
  }
 },
 "nbformat": 4,
 "nbformat_minor": 1
}
