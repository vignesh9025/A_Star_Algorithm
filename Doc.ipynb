{
 "cells": [
  {
   "cell_type": "markdown",
   "metadata": {},
   "source": [
    "# A3: A\\*, IDS, and Effective Branching Factor"
   ]
  },
  {
   "cell_type": "markdown",
   "metadata": {},
   "source": [
    "For this assignment, implement the Recursive Best-First Search\n",
    "implementation of the A\\* algorithm given in class.  Name this function `aStarSearch`.  Also in this notebook include your `iterativeDeepeningSearch` functions.  Define a new function named `ebf` that returns an estimate of the effective\n",
    "branching factor for a search algorithm applied to a search problem.\n",
    "\n",
    "So, the required functions are\n",
    "\n",
    "   - `aStarSearch(startState, actionsF, takeActionF, goalTestF, hF)`\n",
    "   - `iterativeDeepeningSearch(startState, goalState, actionsF, takeActionF, maxDepth)`\n",
    "   - `ebf(nNodes, depth, precision=0.01)`, returns number of nodes expanded and depth reached during a search.\n",
    "\n",
    "Apply `iterativeDeepeningSearch` and `aStarSearch` to several eight-tile sliding puzzle\n",
    "problems. For this you must include your implementations of these functions, from Assignment 2:\n",
    "\n",
    "  * `actionsF_8p(state)`: returns a list of up to four valid actions that can be applied in `state`. With each action include a step cost of 1. For example, if all four actions are possible from this state, return [('left', 1), ('right', 1), ('up', 1), ('down', 1)].\n",
    "  * `takeActionF_8p(state, action)`: return the state that results from applying `action` in `state` and the cost of the one step,\n",
    "  \n",
    "plus the following function for the eight-tile puzzle:\n",
    "\n",
    "  * `goalTestF_8p(state, goal)`\n",
    "  \n",
    "Compare their results by displayng\n",
    "solution path depth, number of nodes \n",
    "generated, and the effective branching factor, and discuss the results.  Do this by defining the following function that prints the table as shown in the example below.\n",
    "\n",
    "   - runExperiment(goalState1, goalState2, goalState3, [h1, h2, h3])\n",
    "   \n",
    "Define this function so it takes any number of $h$ functions in the list that is the fourth argument."
   ]
  },
  {
   "cell_type": "markdown",
   "metadata": {},
   "source": [
    "## Heuristic Functions\n",
    "\n",
    "For `aStarSearch` use the following two heuristic functions, plus one more of your own design, for a total of three heuristic functions.\n",
    "\n",
    "  * `h1_8p(state, goal)`: $h(state, goal) = 0$, for all states $state$ and all goal states $goal$,\n",
    "  * `h2_8p(state, goal)`: $h(state, goal) = m$, where $m$ is the Manhattan distance that the blank is from its goal position,\n",
    "  * `h3_8p(state, goal)`: $h(state, goal) = ?$, that you define.  It must be admissible, and not constant for all states."
   ]
  },
  {
   "cell_type": "markdown",
   "metadata": {},
   "source": [
    "## Comparison"
   ]
  },
  {
   "cell_type": "markdown",
   "metadata": {},
   "source": [
    "Apply all four algorithms (`iterativeDeepeningSearch` plus `aStarSearch` with the three heuristic\n",
    "functions) to three eight-tile puzzle problems with start state\n",
    "\n",
    "$$\n",
    "\\begin{array}{ccc}\n",
    "1 & 2 & 3\\\\\n",
    "4 & 0 & 5\\\\\n",
    "6 & 7 & 8\n",
    "\\end{array}\n",
    "$$\n",
    "\n",
    "and these three goal states.\n",
    "\n",
    "$$\n",
    "\\begin{array}{ccccccccccc}\n",
    "1 & 2 & 3  & ~~~~ & 1 & 2 & 3  &  ~~~~ & 1 & 0 &  3\\\\\n",
    "4 & 0 & 5  & & 4 & 5 & 8  & & 4 & 5 & 8\\\\\n",
    "6 & 7 & 8 &  & 6 & 0 & 7  & & 2 & 6 & 7\n",
    "\\end{array}\n",
    "$$"
   ]
  },
  {
   "cell_type": "markdown",
   "metadata": {},
   "source": [
    "Print a well-formatted table like the following.  Try to match this\n",
    "format. \n",
    "\n",
    "           [1, 2, 3, 4, 0, 5, 6, 7, 8]    [1, 2, 3, 4, 5, 8, 6, 0, 7]    [1, 0, 3, 4, 5, 8, 2, 6, 7] \n",
    "    Algorithm    Depth  Nodes  EBF              Depth  Nodes  EBF              Depth  Nodes  EBF          \n",
    "         IDS       0      0  0.000                3     43  3.086               11 225850  2.954         \n",
    "        A*h1       0      0  0.000                3    116  4.488               11 643246  3.263         \n",
    "        A*h2       0      0  0.000                3     51  3.297               11 100046  2.733         \n",
    "\n",
    "Of course you will have one more line for `h3`."
   ]
  },
  {
   "cell_type": "markdown",
   "metadata": {},
   "source": [
    "Insert your functions here."
   ]
  },
  {
   "cell_type": "markdown",
   "metadata": {},
   "source": [
    "## hf3 - actual manhattan distance"
   ]
  },
  {
   "cell_type": "code",
   "execution_count": 189,
   "metadata": {
    "collapsed": true
   },
   "outputs": [],
   "source": [
    "# H3 - Actual Manhattan distance\n",
    "def h3_8p(state, goalState):\n",
    "\tdist = 0\n",
    "\tfor i in range(9):\n",
    "\t\tif state[i] == 0:\n",
    "\t\t\tcontinue\n",
    "\t\t# Find element at position i in state\n",
    "\t\telement = state[i]\n",
    "\t\t# Find x and y of this element\n",
    "\t\tx1, y1 = list_to_matrix_8p(i)\n",
    "\t\t# Index of same element in goalState\n",
    "\t\txg, yg = list_to_matrix_8p(goalState.index(element))\n",
    "\t\t# Compute sum\n",
    "\t\tx = abs(x1 - xg)\n",
    "\t\ty = abs(y1 - yg)\n",
    "\t\t#print(x, y)\n",
    "\t\ts = x + y\n",
    "\t\t#print(s)\n",
    "\t\tdist = s + dist\n",
    "\treturn dist"
   ]
  },
  {
   "cell_type": "markdown",
   "metadata": {},
   "source": [
    "## hf2 - Heuristic function which computes the Manhattan distance of the blank"
   ]
  },
  {
   "cell_type": "code",
   "execution_count": 188,
   "metadata": {
    "collapsed": true
   },
   "outputs": [],
   "source": [
    "# Heuristic function which computes the Manhattan distance of the blank\n",
    "def h2_8p(state, goalState):\n",
    "    x1, y1 = findBlank_8p(state)\n",
    "    x2, y2 = findBlank_8p(goalState)\n",
    "    x = abs(x1 - x2)\n",
    "    y = abs(y1 - y2)\n",
    "    return x + y"
   ]
  },
  {
   "cell_type": "markdown",
   "metadata": {},
   "source": [
    "## hf1"
   ]
  },
  {
   "cell_type": "code",
   "execution_count": 187,
   "metadata": {
    "collapsed": true
   },
   "outputs": [],
   "source": [
    "# Heuristic function definition\n",
    "def h1_8p(state, goalState):\n",
    "\treturn 0"
   ]
  },
  {
   "cell_type": "markdown",
   "metadata": {},
   "source": [
    "# !!! NODES - GLOBAL !!!"
   ]
  },
  {
   "cell_type": "code",
   "execution_count": 139,
   "metadata": {
    "collapsed": true
   },
   "outputs": [],
   "source": [
    "# GLOBAL !!! -------GLOBAL !!! -------GLOBAL !!! -------GLOBAL !!! -------GLOBAL !!! -------GLOBAL !!! -------\n",
    "nodes = 0\n",
    "# GLOBAL !!! -------GLOBAL !!! -------GLOBAL !!! -------GLOBAL !!! -------GLOBAL !!! -------GLOBAL !!! -------"
   ]
  },
  {
   "cell_type": "markdown",
   "metadata": {},
   "source": [
    "# A Star Search"
   ]
  },
  {
   "cell_type": "code",
   "execution_count": 148,
   "metadata": {
    "collapsed": true
   },
   "outputs": [],
   "source": [
    "def printPath_8p(startState, goalState, path):\n",
    "    \n",
    "    if path == 'cutoff' or path == 'failure':\n",
    "        print(path)\n",
    "    else:\n",
    "        # FIND PATH LENGTH\n",
    "        l = len(path)\n",
    "        #print(\"The path from %s to %s is %d nodes long.\" % (printState_8p(startState), printState_8p(goalState), l))\n",
    "        print(\"The path from \\n\")\n",
    "        printState_8p(startState)\n",
    "        print(\"\\nto\\n\")\n",
    "        printState_8p(goalState)\n",
    "        print(\"\\nis %d nodes long.\" % l)\n",
    "        print()\n",
    "        print()\n",
    "        for p in path:\n",
    "            printState_8p(p)\n",
    "            print()\n",
    "\n",
    "def printState_8p(state):\n",
    "    ctr = 0\n",
    "    # PRINTING THE ELEMENTS OF THE STATE IN A READABLE, 2-DIMENSIONAL FORMAT\n",
    "    for i in range(3):\n",
    "        for j in range(3):\n",
    "            if state[ctr] == 0:\n",
    "                print(' ', end = ' ')\n",
    "            else:\n",
    "                print(state[ctr], end=' ')\n",
    "            ctr += 1\n",
    "        print()\n",
    "\n",
    "# THIS FUNCTION TAKES IN X INDEX AND Y INDEX VALUES, AND RETURNS THE SIMPLE-LIST INDEX\n",
    "\n",
    "def matrix_to_list_8p(x, y):\n",
    "    counter = 0\n",
    "    for i in range(3): # SINCE IT'S A 3 X 3 PUZZLE\n",
    "        for j in range(3):\n",
    "            if i == x and j == y:\n",
    "                return counter\n",
    "            counter += 1\n",
    "    return 'Index does not exist!'\n",
    "\n",
    "# FUNCTION WHICH TAKES IN A SIMPLE-LIST INDEX AND RETURNS X, Y VALUES\n",
    "\n",
    "def list_to_matrix_8p(x):\n",
    "    counter = 0\n",
    "    for i in range(3):\n",
    "        for j in range(3):\n",
    "            if counter == x:\n",
    "                return i, j # RETURNS A TUPLE CONTAINING X AND Y INDEX VALUES\n",
    "            counter += 1\n",
    "    return 'Index does not exist!'\n",
    "\n",
    "# FUNCTION TO SWAP TWO POSITIONS IN A 2D MATRIX\n",
    "\n",
    "def swap(state, x1, y1, x2, y2):\n",
    "    temp = state[matrix_to_list_8p(x1, y1)] # ASSIGN FIRST INDEX VALUE TO TEMPORARY VARIABLE\n",
    "    state[matrix_to_list_8p(x1, y1)] = state[matrix_to_list_8p(x2, y2)] # ASSIGN SECOND INDEX VALUE TO FIRST POSITION\n",
    "    state[matrix_to_list_8p(x2, y2)] = temp # ASSIGN TEMPORARY VARIABLE'S VALUE TO SECOND POSITION\n",
    "    return state\n",
    "\n",
    "# FUNCTION TO FIND THE BLANK IN A GIVEN STATE\n",
    "\n",
    "def findBlank_8p(state):\n",
    "    ctr = 0\n",
    "    for i in state: # ITERATE THROUGH 'STATE' LIST AND ONCE BLANK IS FOUND, RETURN IT'S 2-DIMENSIONAL INDEX.\n",
    "        if i == 0:\n",
    "            return list_to_matrix_8p(ctr)\n",
    "        ctr += 1\n",
    "    return 'Blank not found!'\n",
    "\n",
    "# THE ACTIONSF FUNCTION GENERATES ALL POSSIBLE VALID ACTIONS FROM A GIVEN STATE.\n",
    "\n",
    "def actionsF_8p(state):\n",
    "\n",
    "    # FIRSTLY, WE DETERMINE WHERE THE BLANK IS LOCATED\n",
    "    blank = findBlank_8p(state)\n",
    "    \n",
    "    # LET'S INITIALIZE THE VALID ACTIONS LIST\n",
    "    validActions = []\n",
    "\n",
    "    # NOW WE USE A SET OF CONDITIONALS AND KEEP APPENDING TO validActions\n",
    "    \n",
    "    # FOR GOING LEFT, CONDITION IS (Y != 0)\n",
    "    if blank[1] != 0:\n",
    "        validActions.append(('left', 1))\n",
    "    # FOR GOING RIGHT, CONDITION IS (Y != 2)\n",
    "    if blank[1] != 2:\n",
    "        validActions.append(('right', 1))\n",
    "    # FOR GOING UP, CONDITION IS (X != 0)\n",
    "    if blank[0] != 0:\n",
    "        validActions.append(('up', 1))\n",
    "    # FOR GOING DOWN, CONDITION IS (X != 2)\n",
    "    if blank[0] != 2:\n",
    "        validActions.append(('down', 1))\n",
    "\n",
    "    return validActions\n",
    "\n",
    "# This function takes in a state and an action, and applies this action to the state. Returns the new state and a step cost to get to state (1).\n",
    "import copy\n",
    "def takeActionF_8p(state, action):\n",
    "    # DETERMINE BLANK LOCATION\n",
    "    blank = findBlank_8p(state)\n",
    "    state2 = copy.copy(state)\n",
    "    # MOVING LEFT - SWAP BLANK WITH ELEMENT TO THE LEFT.\n",
    "    if action[0] == 'left':\n",
    "        swap(state2, blank[0], blank[1], blank[0], blank[1] - 1)\n",
    "\n",
    "    # MOVING RIGHT - SWAP BLANK WITH ELEMENT TO THE RIGHT.\n",
    "    if action[0] == 'right':\n",
    "        swap(state2, blank[0], blank[1], blank[0], blank[1] + 1)\n",
    "\n",
    "    # MOVING UP - SWAP BLANK WITH ELEMENT ABOVE.\n",
    "    if action[0] == 'up':\n",
    "        swap(state2, blank[0], blank[1], blank[0] - 1, blank[1])\n",
    "\n",
    "    # MOVING DOWN - SWAP BLANK WITH ELEMENT BELOW.\n",
    "    if action[0] == 'down':\n",
    "        swap(state2, blank[0], blank[1], blank[0] + 1, blank[1])\n",
    "\n",
    "    return state2, 1\n",
    "\n",
    "class Node:\n",
    "    def __init__(self, state, f=0, g=0 ,h=0):\n",
    "        self.state = state\n",
    "        self.f = f\n",
    "        self.g = g\n",
    "        self.h = h\n",
    "    def __repr__(self):\n",
    "        return \"Node(\" + repr(self.state) + \", f=\" + repr(self.f) + \\\n",
    "               \", g=\" + repr(self.g) + \", h=\" + repr(self.h) + \")\"\n",
    "\n",
    "def aStarSearch(startState, actionsF, takeActionF, goalTestF, hF):\n",
    "    h = hF(startState)\n",
    "    startNode = Node(state=startState, f=0+h, g=0, h=h)\n",
    "    return aStarSearchHelper(startNode, actionsF, takeActionF, goalTestF, hF, float('inf'))\n",
    "\n",
    "def aStarSearchHelper(parentNode, actionsF, takeActionF, goalTestF, hF, fmax):\n",
    "    global nodes\n",
    "    if goalTestF(parentNode.state):\n",
    "        return ([parentNode.state], parentNode.g)\n",
    "    ## Construct list of children nodes with f, g, and h values\n",
    "    actions = actionsF(parentNode.state)\n",
    "    if not actions:\n",
    "        return (\"failure\", float('inf'))\n",
    "    children = []\n",
    "    for action in actions:\n",
    "        nodes = nodes + 1\n",
    "        (childState,stepCost) = takeActionF(parentNode.state, action)\n",
    "        h = hF(childState)\n",
    "        g = parentNode.g + stepCost\n",
    "        f = max(h+g, parentNode.f)\n",
    "        childNode = Node(state=childState, f=f, g=g, h=h)\n",
    "        children.append(childNode)\n",
    "    while True:\n",
    "        # find best child\n",
    "        children.sort(key = lambda n: n.f) # sort by f value\n",
    "        bestChild = children[0]\n",
    "        if bestChild.f > fmax:\n",
    "            return (\"failure\",bestChild.f)\n",
    "        # next lowest f value\n",
    "        alternativef = children[1].f if len(children) > 1 else float('inf')\n",
    "        # expand best child, reassign its f value to be returned value\n",
    "        result,bestChild.f = aStarSearchHelper(bestChild, actionsF, takeActionF, goalTestF,\n",
    "                                            hF, min(fmax,alternativef))\n",
    "        if result is not \"failure\":             \n",
    "            result.insert(0,parentNode.state)     \n",
    "            return (result, bestChild.f)\n",
    "\n",
    "startState = [1, 0, 3, 4, 2, 6, 7, 5, 8]\n",
    "\n",
    "def goalTestF_8p(state, goalState):\n",
    "    return state == goalState"
   ]
  },
  {
   "cell_type": "markdown",
   "metadata": {},
   "source": [
    "# IDS"
   ]
  },
  {
   "cell_type": "code",
   "execution_count": 149,
   "metadata": {
    "collapsed": true
   },
   "outputs": [],
   "source": [
    "# Note to self: Modify this to ignore cost.\n",
    "def depthLimitedSearch(state, goalState, actionsF, takeActionF, depthLimit):\n",
    "    global nodes\n",
    "    if state == goalState:\n",
    "        return []\n",
    "    if depthLimit == 0:\n",
    "        return 'cutoff'\n",
    "    cutoffOccurred = False\n",
    "    for action in actionsF(state):\n",
    "        childState, _ = takeActionF(state, action)\n",
    "        nodes = nodes + 1\n",
    "        result = depthLimitedSearch(childState, goalState, actionsF, takeActionF, depthLimit - 1)\n",
    "        if result == 'cutoff':\n",
    "            cutoffOccurred = True\n",
    "        elif result != 'failure':\n",
    "            result.insert(0, childState)\n",
    "            return result \n",
    "    if cutoffOccurred:\n",
    "        return 'cutoff' # RETURN 'cutoff' IF NO GOAL COULD BE FOUND WITHIN depthLimit\n",
    "    else:\n",
    "        return 'failure' # RETURN 'failure' IF NO GOAL STATE COULD BE FOUND IN THE ENTIRE SEARCH-TREE\n",
    "def iterativeDeepeningSearch(startState, goalState, actionsF, takeActionF, maxDepth):\n",
    "    for depth in range(maxDepth):\n",
    "        result = depthLimitedSearch(startState, goalState, actionsF, takeActionF, depth)\n",
    "        if result == 'failure':\n",
    "            return 'failure'\n",
    "        if result != 'cutoff':\n",
    "            result.insert(0, startState)\n",
    "            return result\n",
    "    return 'cutoff'"
   ]
  },
  {
   "cell_type": "markdown",
   "metadata": {},
   "source": [
    "# EBF"
   ]
  },
  {
   "cell_type": "code",
   "execution_count": 165,
   "metadata": {
    "collapsed": true
   },
   "outputs": [],
   "source": [
    "def ebf(nNodes, depth, precision = 0.00001):\n",
    "\tleft = 1\n",
    "\tright = nNodes\n",
    "\tif nNodes == 0:\n",
    "\t\treturn 0\n",
    "\tb = 1.0\n",
    "\twhile(True):\n",
    "\t\tif abs(right - left) <= precision:\n",
    "\t\t\tbreak\n",
    "\t\t#print('left', left)\n",
    "\t\t#print('right', right)\n",
    "\t\tb = (left + right)/2\n",
    "\t\t#print('b', b)\n",
    "\t\tn = (pow(b, (depth+1)) - 1)/(b - 1)\n",
    "\t\tif nNodes < n:\n",
    "\t\t\tright = b - precision\n",
    "\t\telif nNodes > n:\n",
    "\t\t\tleft = b + precision\n",
    "\t\telse:\n",
    "\t\t\treturn b\n",
    "\treturn b    "
   ]
  },
  {
   "cell_type": "markdown",
   "metadata": {},
   "source": [
    "# 8 puzzle"
   ]
  },
  {
   "cell_type": "markdown",
   "metadata": {},
   "source": [
    "## A star"
   ]
  },
  {
   "cell_type": "code",
   "execution_count": 153,
   "metadata": {
    "scrolled": true
   },
   "outputs": [
    {
     "data": {
      "text/plain": [
       "([[1, 2, 3, 4, 0, 5, 6, 7, 8],\n",
       "  [1, 2, 3, 4, 5, 0, 6, 7, 8],\n",
       "  [1, 2, 3, 4, 5, 8, 6, 7, 0],\n",
       "  [1, 2, 3, 4, 5, 8, 6, 0, 7]],\n",
       " 3)"
      ]
     },
     "execution_count": 153,
     "metadata": {},
     "output_type": "execute_result"
    }
   ],
   "source": [
    "#startState = [1, 0, 3, 4, 2, 6, 7, 5, 8]\n",
    "#goalState = [1, 2, 3, 4, 5, 6, 7, 8, 0]\n",
    "\n",
    "#startState = [1,2,3,4,0,5,6,7,8]\n",
    "#goalState = [3,5,0,2,1,8,4,7,6]\n",
    "\n",
    "startState = [1,2,3,4,0,5,6,7,8]\n",
    "#goalState = [1,2,3,4,0,5,6,7,8]\n",
    "goalState = [1,2,3,4,5,8,6,0,7]\n",
    "#goalState = [1,0,3,4,5,8,2,6,7]\n",
    "\n",
    "aStarSearch(startState, actionsF_8p, takeActionF_8p,\n",
    "            lambda s: goalTestF_8p(s, goalState), lambda s: hf(s, goalState))"
   ]
  },
  {
   "cell_type": "markdown",
   "metadata": {},
   "source": [
    "## IDS"
   ]
  },
  {
   "cell_type": "code",
   "execution_count": 155,
   "metadata": {
    "scrolled": false
   },
   "outputs": [
    {
     "data": {
      "text/plain": [
       "[[1, 2, 3, 4, 0, 5, 6, 7, 8],\n",
       " [1, 2, 3, 4, 5, 0, 6, 7, 8],\n",
       " [1, 2, 3, 4, 5, 8, 6, 7, 0],\n",
       " [1, 2, 3, 4, 5, 8, 6, 0, 7]]"
      ]
     },
     "execution_count": 155,
     "metadata": {},
     "output_type": "execute_result"
    }
   ],
   "source": [
    "iterativeDeepeningSearch(startState, goalState, actionsF_8p, takeActionF_8p, 10)"
   ]
  },
  {
   "cell_type": "markdown",
   "metadata": {},
   "source": [
    "First, some example output for the ebf function."
   ]
  },
  {
   "cell_type": "code",
   "execution_count": 156,
   "metadata": {
    "scrolled": true
   },
   "outputs": [
    {
     "data": {
      "text/plain": [
       "1.6770703125000002"
      ]
     },
     "execution_count": 156,
     "metadata": {},
     "output_type": "execute_result"
    }
   ],
   "source": [
    "ebf(10, 3)"
   ]
  },
  {
   "cell_type": "markdown",
   "metadata": {},
   "source": [
    "The smallest argument values should be a depth of 0, and 1 node."
   ]
  },
  {
   "cell_type": "code",
   "execution_count": 18,
   "metadata": {},
   "outputs": [
    {
     "data": {
      "text/plain": [
       "1.0"
      ]
     },
     "execution_count": 18,
     "metadata": {},
     "output_type": "execute_result"
    }
   ],
   "source": [
    "ebf(1, 0)"
   ]
  },
  {
   "cell_type": "code",
   "execution_count": 19,
   "metadata": {},
   "outputs": [
    {
     "data": {
      "text/plain": [
       "1.0059375"
      ]
     },
     "execution_count": 19,
     "metadata": {},
     "output_type": "execute_result"
    }
   ],
   "source": [
    "ebf(2, 1)"
   ]
  },
  {
   "cell_type": "code",
   "execution_count": 20,
   "metadata": {},
   "outputs": [
    {
     "data": {
      "text/plain": [
       "1.0000009073524474"
      ]
     },
     "execution_count": 20,
     "metadata": {},
     "output_type": "execute_result"
    }
   ],
   "source": [
    "ebf(2, 1, precision=0.000001)"
   ]
  },
  {
   "cell_type": "code",
   "execution_count": 21,
   "metadata": {},
   "outputs": [
    {
     "data": {
      "text/plain": [
       "11.265790407657624"
      ]
     },
     "execution_count": 21,
     "metadata": {},
     "output_type": "execute_result"
    }
   ],
   "source": [
    "ebf(200000, 5)"
   ]
  },
  {
   "cell_type": "code",
   "execution_count": 22,
   "metadata": {},
   "outputs": [
    {
     "data": {
      "text/plain": [
       "1.2522591519355775"
      ]
     },
     "execution_count": 22,
     "metadata": {},
     "output_type": "execute_result"
    }
   ],
   "source": [
    "ebf(200000, 50)"
   ]
  },
  {
   "cell_type": "markdown",
   "metadata": {},
   "source": [
    "Here is a simple example using our usual simple graph search."
   ]
  },
  {
   "cell_type": "code",
   "execution_count": 23,
   "metadata": {
    "collapsed": true
   },
   "outputs": [],
   "source": [
    "def actionsF_simple(state):\n",
    "    succs = {'a': ['b', 'c'], 'b':['e', 'f', 'g'], 'b':['a'], 'c':['h'], 'h':['i'], 'i':['j', 'k', 'l'], 'k':['z']}\n",
    "    return [(s, 1) for s in succs.get(state, [])]\n",
    "\n",
    "def takeActionF_simple(state, action):\n",
    "    return action\n",
    "\n",
    "def goalTestF_simple(state, goal):\n",
    "    return state == goal\n",
    "\n",
    "def h_simple(state, goal):\n",
    "    return 1"
   ]
  },
  {
   "cell_type": "code",
   "execution_count": 24,
   "metadata": {},
   "outputs": [
    {
     "data": {
      "text/plain": [
       "[('b', 1), ('c', 1)]"
      ]
     },
     "execution_count": 24,
     "metadata": {},
     "output_type": "execute_result"
    }
   ],
   "source": [
    "actions = actionsF_simple('a')\n",
    "actions"
   ]
  },
  {
   "cell_type": "code",
   "execution_count": 25,
   "metadata": {},
   "outputs": [
    {
     "data": {
      "text/plain": [
       "('b', 1)"
      ]
     },
     "execution_count": 25,
     "metadata": {},
     "output_type": "execute_result"
    }
   ],
   "source": [
    "takeActionF_simple('a', actions[0])"
   ]
  },
  {
   "cell_type": "code",
   "execution_count": 26,
   "metadata": {},
   "outputs": [
    {
     "data": {
      "text/plain": [
       "True"
      ]
     },
     "execution_count": 26,
     "metadata": {},
     "output_type": "execute_result"
    }
   ],
   "source": [
    "goalTestF_simple('a', 'a')"
   ]
  },
  {
   "cell_type": "code",
   "execution_count": 27,
   "metadata": {},
   "outputs": [
    {
     "data": {
      "text/plain": [
       "1"
      ]
     },
     "execution_count": 27,
     "metadata": {},
     "output_type": "execute_result"
    }
   ],
   "source": [
    "h_simple('a', 'z')"
   ]
  },
  {
   "cell_type": "code",
   "execution_count": 28,
   "metadata": {},
   "outputs": [
    {
     "data": {
      "text/plain": [
       "['a', 'c', 'h', 'i', 'k', 'z']"
      ]
     },
     "execution_count": 28,
     "metadata": {},
     "output_type": "execute_result"
    }
   ],
   "source": [
    "iterativeDeepeningSearch('a', 'z', actionsF_simple, takeActionF_simple, 10)"
   ]
  },
  {
   "cell_type": "code",
   "execution_count": 29,
   "metadata": {},
   "outputs": [
    {
     "data": {
      "text/plain": [
       "(['a', 'c', 'h', 'i', 'k', 'z'], 5)"
      ]
     },
     "execution_count": 29,
     "metadata": {},
     "output_type": "execute_result"
    }
   ],
   "source": [
    "aStarSearch('a',actionsF_simple, takeActionF_simple,\n",
    "            lambda s: goalTestF_simple(s, 'z'),\n",
    "            lambda s: h_simple(s, 'z'))"
   ]
  },
  {
   "cell_type": "code",
   "execution_count": 182,
   "metadata": {
    "collapsed": true
   },
   "outputs": [],
   "source": [
    "import pandas as pd\n",
    "import numpy as np\n",
    "import tabulate\n",
    "from IPython.display import display, HTML\n",
    "\n",
    "from IPython.display import display_html\n",
    "def disp(dataframes):\n",
    "    html_str=''\n",
    "    for i in dataframes:\n",
    "        html_str = html_str + i\n",
    "    display_html(html_str.replace('table','table style=\"display:inline; text-align:center\"'),raw=True)\n",
    "\n",
    "def runExperiment(goalState1, goalState2, goalState3, hList = []):\n",
    "    global nodes\n",
    "    row1 = ['']\n",
    "    row2 = ['Algorithm']\n",
    "    row3 = ['IDS']\n",
    "    rowi = []\n",
    "    # Iterate through list of heuristic functions and append name first.\n",
    "    for h in range(len(hList)+1):\n",
    "        if h == 0:\n",
    "            continue\n",
    "        rowi.append(['A*h' + str(h)])\n",
    "\n",
    "    mas = []\n",
    "    final = [row1, row2, row3]#, row4, row5, row6]\n",
    "    for r in rowi:\n",
    "        final.append(r)\n",
    "    t = tabulate.tabulate(final, stralign = 'center', tablefmt = 'html')\n",
    "\n",
    "    mas.append(t)\n",
    "    for r in rowi:\n",
    "        r.clear()\n",
    "    startState = [1,2,3,4,0,5,6,7,8]\n",
    "    goalStateList = [goalState1, goalState2, goalState3]\n",
    "    for goalState in goalStateList:\n",
    "        row1 = ['', goalState, '']\n",
    "        row2 = ['Depth', 'Nodes', 'EBF']\n",
    "        row3 = []\n",
    "        ids = iterativeDeepeningSearch(startState, goalState, actionsF_8p, takeActionF_8p, 20)\n",
    "        dids = len(ids) - 1\n",
    "        n = nodes\n",
    "        ebfids = ebf(n, dids)\n",
    "        ebfids = \"{:.3f}\".format(ebfids) \n",
    "        row3.append(dids)\n",
    "        row3.append(n)\n",
    "        row3.append(ebfids)\n",
    "        nodes = 0\n",
    "\n",
    "        for i in range(len(hList)):\n",
    "            hf = hList[i]\n",
    "            ah = aStarSearch(startState, actionsF_8p, takeActionF_8p, lambda s: goalTestF_8p(s, goalState), lambda s: hf(s, goalState))\n",
    "            d = ah[1]\n",
    "            n = nodes\n",
    "            ebf1 = ebf(n, d)\n",
    "            ebf1 = \"{:.3f}\".format(ebf1)\n",
    "            rowi[i].append(d)\n",
    "            rowi[i].append(n)\n",
    "            rowi[i].append(ebf1)\n",
    "            nodes = 0\n",
    "\n",
    "        final = [row1, row2, row3]\n",
    "        for row in rowi:\n",
    "            final.append(row)\n",
    "        t = tabulate.tabulate(final, stralign = 'center', tablefmt = 'html')\n",
    "        for row in rowi:\n",
    "            row.clear()\n",
    "        mas.append(t)\n",
    "    disp(mas)"
   ]
  },
  {
   "cell_type": "code",
   "execution_count": 190,
   "metadata": {},
   "outputs": [
    {
     "data": {
      "text/html": [
       "<table style=\"display:inline; text-align:center\">\n",
       "<tbody>\n",
       "<tr><td style=\"text-align: center;\">         </td></tr>\n",
       "<tr><td style=\"text-align: center;\">Algorithm</td></tr>\n",
       "<tr><td style=\"text-align: center;\">   IDS   </td></tr>\n",
       "<tr><td style=\"text-align: center;\">  A*h1   </td></tr>\n",
       "<tr><td style=\"text-align: center;\">  A*h2   </td></tr>\n",
       "<tr><td style=\"text-align: center;\">  A*h3   </td></tr>\n",
       "</tbody>\n",
       "</table style=\"display:inline; text-align:center\"><table style=\"display:inline; text-align:center\">\n",
       "<tbody>\n",
       "<tr><td style=\"text-align: center;\">     </td><td style=\"text-align: center;\">[1, 2, 3, 4, 0, 5, 6, 7, 8]</td><td style=\"text-align: center;\">     </td></tr>\n",
       "<tr><td style=\"text-align: center;\">Depth</td><td style=\"text-align: center;\">           Nodes           </td><td style=\"text-align: center;\"> EBF </td></tr>\n",
       "<tr><td style=\"text-align: center;\">  0  </td><td style=\"text-align: center;\">             0             </td><td style=\"text-align: center;\">0.000</td></tr>\n",
       "<tr><td style=\"text-align: center;\">  0  </td><td style=\"text-align: center;\">             0             </td><td style=\"text-align: center;\">0.000</td></tr>\n",
       "<tr><td style=\"text-align: center;\">  0  </td><td style=\"text-align: center;\">             0             </td><td style=\"text-align: center;\">0.000</td></tr>\n",
       "<tr><td style=\"text-align: center;\">  0  </td><td style=\"text-align: center;\">             0             </td><td style=\"text-align: center;\">0.000</td></tr>\n",
       "</tbody>\n",
       "</table style=\"display:inline; text-align:center\"><table style=\"display:inline; text-align:center\">\n",
       "<tbody>\n",
       "<tr><td style=\"text-align: center;\">     </td><td style=\"text-align: center;\">[1, 2, 3, 4, 5, 8, 6, 0, 7]</td><td style=\"text-align: center;\">     </td></tr>\n",
       "<tr><td style=\"text-align: center;\">Depth</td><td style=\"text-align: center;\">           Nodes           </td><td style=\"text-align: center;\"> EBF </td></tr>\n",
       "<tr><td style=\"text-align: center;\">  3  </td><td style=\"text-align: center;\">            43             </td><td style=\"text-align: center;\">3.086</td></tr>\n",
       "<tr><td style=\"text-align: center;\">  3  </td><td style=\"text-align: center;\">            116            </td><td style=\"text-align: center;\">4.488</td></tr>\n",
       "<tr><td style=\"text-align: center;\">  3  </td><td style=\"text-align: center;\">            51             </td><td style=\"text-align: center;\">3.297</td></tr>\n",
       "<tr><td style=\"text-align: center;\">  3  </td><td style=\"text-align: center;\">             9             </td><td style=\"text-align: center;\">1.578</td></tr>\n",
       "</tbody>\n",
       "</table style=\"display:inline; text-align:center\"><table style=\"display:inline; text-align:center\">\n",
       "<tbody>\n",
       "<tr><td style=\"text-align: center;\">     </td><td style=\"text-align: center;\">[1, 0, 3, 4, 5, 8, 2, 6, 7]</td><td style=\"text-align: center;\">     </td></tr>\n",
       "<tr><td style=\"text-align: center;\">Depth</td><td style=\"text-align: center;\">           Nodes           </td><td style=\"text-align: center;\"> EBF </td></tr>\n",
       "<tr><td style=\"text-align: center;\"> 11  </td><td style=\"text-align: center;\">          225850           </td><td style=\"text-align: center;\">2.954</td></tr>\n",
       "<tr><td style=\"text-align: center;\"> 11  </td><td style=\"text-align: center;\">          643246           </td><td style=\"text-align: center;\">3.263</td></tr>\n",
       "<tr><td style=\"text-align: center;\"> 11  </td><td style=\"text-align: center;\">          100046           </td><td style=\"text-align: center;\">2.733</td></tr>\n",
       "<tr><td style=\"text-align: center;\"> 11  </td><td style=\"text-align: center;\">           1172            </td><td style=\"text-align: center;\">1.762</td></tr>\n",
       "</tbody>\n",
       "</table style=\"display:inline; text-align:center\">"
      ]
     },
     "metadata": {},
     "output_type": "display_data"
    }
   ],
   "source": [
    "goalState1 = [1,2,3,4,0,5,6,7,8]\n",
    "goalState2 = [1,2,3,4,5,8,6,0,7]\n",
    "goalState3 = [1,0,3,4,5,8,2,6,7]\n",
    "#goalState3 = [1,2,3,4,0,5,6,7,8]\n",
    "startState = [1,2,3,4,0,5,6,7,8]\n",
    "runExperiment(goalState1, goalState2, goalState3, [h1_8p, h2_8p, h3_8p])"
   ]
  },
  {
   "cell_type": "markdown",
   "metadata": {},
   "source": [
    "Download [A3grader.tar](http://www.cs.colostate.edu/~anderson/cs440/notebooks/A3grader.tar) and extract A3grader.py from it."
   ]
  },
  {
   "cell_type": "code",
   "execution_count": 138,
   "metadata": {
    "scrolled": false
   },
   "outputs": [
    {
     "name": "stdout",
     "output_type": "stream",
     "text": [
      "\n",
      "Testing actionsF_8p([1, 2, 3, 4, 5, 6, 7, 0, 8])\n",
      "\n",
      "--- 5/5 points. Your actionsF_8p correctly returned [('left', 1), ('right', 1), ('up', 1)]\n",
      "\n",
      "Testing takeActionF_8p([1, 2, 3, 4, 5, 6, 7, 0, 8], (up, 1))\n",
      "\n",
      "--- 5/5 points. Your takeActionsF_8p correctly returned ([1, 2, 3, 4, 0, 6, 7, 5, 8], 1)\n",
      "\n",
      "Testing goalTestF_8p([1, 2, 3, 4, 5, 6, 7, 0, 8], [1, 2, 3, 4, 5, 6, 7, 0, 8])\n",
      "\n",
      "--- 5/5 points. Your goalTestF_8p correctly True\n",
      "\n",
      "Testing aStarSearch([1, 2, 3, 4, 5, 6, 7, 0, 8],\n",
      "                     actionsF_8p, takeActionF_8p,\n",
      "                     lambda s: goalTestF_8p(s, [0, 2, 3, 1, 4,  6, 7, 5, 8]),\n",
      "                     lambda s: h1_8p(s, [0, 2, 3, 1, 4,  6, 7, 5, 8]))\n",
      "\n",
      "--- 20/20 points. Your search correctly returned ([[1, 2, 3, 4, 5, 6, 7, 0, 8], [1, 2, 3, 4, 0, 6, 7, 5, 8], [1, 2, 3, 0, 4, 6, 7, 5, 8], [0, 2, 3, 1, 4, 6, 7, 5, 8]], 3)\n",
      "\n",
      "Testing iterativeDeepeningSearch([5, 2, 8, 0, 1, 4, 3, 7, 6], \n",
      "                                 [0, 2, 3, 1, 4,  6, 7, 5, 8],\n",
      "                                 actionsF_8p, takeActionF_8p, 10)\n",
      "\n",
      "--- 15/15 points. Your search correctly returned cutoff\n",
      "\n",
      "C:\\Users\\Vignesh\\Documents\\Colorado State University\\Courses\\CS440 - Introduction to Artificial Intelligence - Chuck Anderson\\Assignments Grade is 50/50\n"
     ]
    }
   ],
   "source": [
    "%run -i A3grader.py"
   ]
  }
 ],
 "metadata": {
  "anaconda-cloud": {},
  "kernelspec": {
   "display_name": "Python 3",
   "language": "python",
   "name": "python3"
  },
  "language_info": {
   "codemirror_mode": {
    "name": "ipython",
    "version": 3
   },
   "file_extension": ".py",
   "mimetype": "text/x-python",
   "name": "python",
   "nbconvert_exporter": "python",
   "pygments_lexer": "ipython3",
   "version": "3.6.0"
  }
 },
 "nbformat": 4,
 "nbformat_minor": 1
}
